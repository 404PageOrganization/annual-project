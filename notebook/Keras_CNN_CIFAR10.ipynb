{
 "cells": [
  {
   "cell_type": "markdown",
   "metadata": {},
   "source": [
    "### Keras CNN 解决 CIFAR10 问题"
   ]
  },
  {
   "cell_type": "markdown",
   "metadata": {},
   "source": [
    "#### 1. 使用 conda 安装 Keras"
   ]
  },
  {
   "cell_type": "markdown",
   "metadata": {
    "scrolled": true
   },
   "source": [
    "` conda install keras `"
   ]
  },
  {
   "cell_type": "markdown",
   "metadata": {},
   "source": [
    "#### 2. 导入 MNIST 数据集"
   ]
  },
  {
   "cell_type": "code",
   "execution_count": 1,
   "metadata": {},
   "outputs": [
    {
     "name": "stderr",
     "output_type": "stream",
     "text": [
      "Using TensorFlow backend.\n"
     ]
    }
   ],
   "source": [
    "from keras.datasets import cifar10"
   ]
  },
  {
   "cell_type": "code",
   "execution_count": 2,
   "metadata": {},
   "outputs": [],
   "source": [
    "(x_train, y_train), (x_test, y_test) = cifar10.load_data()"
   ]
  },
  {
   "cell_type": "markdown",
   "metadata": {},
   "source": [
    "#### 3. 处理数据集\n",
    "\n",
    "* 有 50000 个训练集，10000 个测试集\n",
    "\n",
    "* 除以 255 是为了将 0-255 的 RGB 值映射到 0-1 之间"
   ]
  },
  {
   "cell_type": "code",
   "execution_count": 3,
   "metadata": {},
   "outputs": [],
   "source": [
    "x_train = x_train.reshape(x_train.shape[0], 32, 32, 3).astype('float32') / 255\n",
    "x_test = x_test.reshape(x_test.shape[0], 32, 32, 3).astype('float32') / 255"
   ]
  },
  {
   "cell_type": "code",
   "execution_count": 4,
   "metadata": {},
   "outputs": [],
   "source": [
    "from keras.utils import np_utils\n",
    "y_train = np_utils.to_categorical(y_train)\n",
    "y_test = np_utils.to_categorical(y_test)"
   ]
  },
  {
   "cell_type": "markdown",
   "metadata": {},
   "source": [
    "#### 4. 建立模型"
   ]
  },
  {
   "cell_type": "code",
   "execution_count": 5,
   "metadata": {},
   "outputs": [],
   "source": [
    "from keras.models import Sequential\n",
    "from keras.layers import Dense, Dropout, Conv2D, MaxPooling2D, Flatten"
   ]
  },
  {
   "cell_type": "code",
   "execution_count": 6,
   "metadata": {},
   "outputs": [],
   "source": [
    "model = Sequential([\n",
    "    Conv2D(input_shape=(32, 32, 3),\n",
    "           filters=12,\n",
    "           kernel_size=3,\n",
    "           padding='same',\n",
    "           activation='relu'),\n",
    "    Dropout(0.25),\n",
    "    MaxPooling2D(pool_size=2),\n",
    "    Conv2D(filters=24,\n",
    "           kernel_size=3,\n",
    "           padding='same',\n",
    "           activation='relu'),\n",
    "    Dropout(0.25),\n",
    "    MaxPooling2D(pool_size=2),\n",
    "    Conv2D(filters=32,\n",
    "           kernel_size=3,\n",
    "           padding='same',\n",
    "           activation='relu'),\n",
    "    Dropout(0.25),\n",
    "    Flatten(),\n",
    "    Dense(units=1000,\n",
    "          kernel_initializer='normal',\n",
    "          activation='relu'),\n",
    "    Dropout(0.5),\n",
    "    Dense(units=100,\n",
    "          kernel_initializer='normal',\n",
    "          activation='relu'),\n",
    "    Dense(units=10,\n",
    "          kernel_initializer='normal',\n",
    "          activation='softmax')\n",
    "])"
   ]
  },
  {
   "cell_type": "markdown",
   "metadata": {},
   "source": [
    "#### 5. 输出模型结构"
   ]
  },
  {
   "cell_type": "code",
   "execution_count": 7,
   "metadata": {
    "scrolled": false
   },
   "outputs": [
    {
     "name": "stdout",
     "output_type": "stream",
     "text": [
      "_________________________________________________________________\n",
      "Layer (type)                 Output Shape              Param #   \n",
      "=================================================================\n",
      "conv2d_1 (Conv2D)            (None, 32, 32, 12)        336       \n",
      "_________________________________________________________________\n",
      "dropout_1 (Dropout)          (None, 32, 32, 12)        0         \n",
      "_________________________________________________________________\n",
      "max_pooling2d_1 (MaxPooling2 (None, 16, 16, 12)        0         \n",
      "_________________________________________________________________\n",
      "conv2d_2 (Conv2D)            (None, 16, 16, 24)        2616      \n",
      "_________________________________________________________________\n",
      "dropout_2 (Dropout)          (None, 16, 16, 24)        0         \n",
      "_________________________________________________________________\n",
      "max_pooling2d_2 (MaxPooling2 (None, 8, 8, 24)          0         \n",
      "_________________________________________________________________\n",
      "conv2d_3 (Conv2D)            (None, 8, 8, 32)          6944      \n",
      "_________________________________________________________________\n",
      "dropout_3 (Dropout)          (None, 8, 8, 32)          0         \n",
      "_________________________________________________________________\n",
      "flatten_1 (Flatten)          (None, 2048)              0         \n",
      "_________________________________________________________________\n",
      "dense_1 (Dense)              (None, 1000)              2049000   \n",
      "_________________________________________________________________\n",
      "dropout_4 (Dropout)          (None, 1000)              0         \n",
      "_________________________________________________________________\n",
      "dense_2 (Dense)              (None, 100)               100100    \n",
      "_________________________________________________________________\n",
      "dense_3 (Dense)              (None, 10)                1010      \n",
      "=================================================================\n",
      "Total params: 2,160,006\n",
      "Trainable params: 2,160,006\n",
      "Non-trainable params: 0\n",
      "_________________________________________________________________\n",
      "None\n"
     ]
    }
   ],
   "source": [
    "print(model.summary())"
   ]
  },
  {
   "cell_type": "markdown",
   "metadata": {},
   "source": [
    "#### 6. 定义训练方式"
   ]
  },
  {
   "cell_type": "code",
   "execution_count": 8,
   "metadata": {},
   "outputs": [],
   "source": [
    "model.compile(loss='categorical_crossentropy',\n",
    "              optimizer='adam',\n",
    "              metrics=['accuracy'])"
   ]
  },
  {
   "cell_type": "markdown",
   "metadata": {},
   "source": [
    "#### 7. 开始训练"
   ]
  },
  {
   "cell_type": "code",
   "execution_count": 9,
   "metadata": {
    "scrolled": true
   },
   "outputs": [
    {
     "name": "stdout",
     "output_type": "stream",
     "text": [
      "Train on 40000 samples, validate on 10000 samples\n",
      "Epoch 1/10\n",
      " - 83s - loss: 1.6500 - acc: 0.3931 - val_loss: 1.4528 - val_acc: 0.5061\n",
      "Epoch 2/10\n",
      " - 71s - loss: 1.3275 - acc: 0.5228 - val_loss: 1.3583 - val_acc: 0.5239\n",
      "Epoch 3/10\n",
      " - 67s - loss: 1.1775 - acc: 0.5813 - val_loss: 1.1865 - val_acc: 0.5900\n",
      "Epoch 4/10\n",
      " - 67s - loss: 1.0792 - acc: 0.6224 - val_loss: 1.1677 - val_acc: 0.5865\n",
      "Epoch 5/10\n",
      " - 71s - loss: 0.9956 - acc: 0.6476 - val_loss: 1.0346 - val_acc: 0.6387\n",
      "Epoch 6/10\n",
      " - 69s - loss: 0.9421 - acc: 0.6698 - val_loss: 1.0091 - val_acc: 0.6537\n",
      "Epoch 7/10\n",
      " - 64s - loss: 0.8780 - acc: 0.6895 - val_loss: 1.0177 - val_acc: 0.6478\n",
      "Epoch 8/10\n",
      " - 66s - loss: 0.8211 - acc: 0.7119 - val_loss: 0.8982 - val_acc: 0.6826\n",
      "Epoch 9/10\n",
      " - 66s - loss: 0.7806 - acc: 0.7236 - val_loss: 0.8761 - val_acc: 0.6959\n",
      "Epoch 10/10\n",
      " - 65s - loss: 0.7366 - acc: 0.7367 - val_loss: 0.9366 - val_acc: 0.6711\n"
     ]
    }
   ],
   "source": [
    "history = model.fit(x=x_train,\n",
    "                   y=y_train,\n",
    "                   validation_split=0.2,\n",
    "                   epochs=10,\n",
    "                   batch_size=64,\n",
    "                   verbose=2)"
   ]
  }
 ],
 "metadata": {
  "kernelspec": {
   "display_name": "Python 3",
   "language": "python",
   "name": "python3"
  },
  "language_info": {
   "codemirror_mode": {
    "name": "ipython",
    "version": 3
   },
   "file_extension": ".py",
   "mimetype": "text/x-python",
   "name": "python",
   "nbconvert_exporter": "python",
   "pygments_lexer": "ipython3",
   "version": "3.6.5"
  }
 },
 "nbformat": 4,
 "nbformat_minor": 2
}
