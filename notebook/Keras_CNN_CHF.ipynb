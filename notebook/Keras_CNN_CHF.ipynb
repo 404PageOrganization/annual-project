{
 "cells": [
  {
   "cell_type": "markdown",
   "metadata": {},
   "source": [
    "### Keras CNN 实现 CHF 判别"
   ]
  },
  {
   "cell_type": "markdown",
   "metadata": {},
   "source": [
    "#### 1. 使用 conda 安装 Keras"
   ]
  },
  {
   "cell_type": "markdown",
   "metadata": {
    "scrolled": true
   },
   "source": [
    "` conda install keras `"
   ]
  },
  {
   "cell_type": "markdown",
   "metadata": {},
   "source": [
    "#### 2. 导入 CNF 数据集"
   ]
  },
  {
   "cell_type": "code",
   "execution_count": 1,
   "metadata": {},
   "outputs": [],
   "source": [
    "from PIL import Image\n",
    "import os\n",
    "import numpy\n",
    "\n",
    "output_dir = 'output'\n",
    "\n",
    "font_len = 13\n",
    "characters_count = 40\n",
    "\n",
    "images = []\n",
    "label = []\n",
    "\n",
    "for i, output_file in enumerate([name for name in os.listdir(output_dir) if name != '.DS_Store']):\n",
    "    for file_name in [name for name in os.listdir(output_dir+os.sep+output_file) if name != '.DS_Store']:\n",
    "        images.append(list(Image.open(output_dir+os.sep+output_file+os.sep+file_name).getdata()))\n",
    "        label.append(i)\n",
    "\n",
    "x=numpy.array(images)\n",
    "y=numpy.array(label)"
   ]
  },
  {
   "cell_type": "markdown",
   "metadata": {},
   "source": [
    "#### 3. 处理数据集\n",
    "\n",
    "* 测试模式下，有 40 个字，每种字套用 13 种字体\n",
    "\n",
    "* 除以 255 是为了将 0-255 的 LA 值映射到 0-1 之间"
   ]
  },
  {
   "cell_type": "code",
   "execution_count": 2,
   "metadata": {},
   "outputs": [],
   "source": [
    "x = x.reshape(x.shape[0],128,128,2).astype('float32') / 255"
   ]
  },
  {
   "cell_type": "code",
   "execution_count": 3,
   "metadata": {},
   "outputs": [
    {
     "name": "stderr",
     "output_type": "stream",
     "text": [
      "Using TensorFlow backend.\n"
     ]
    }
   ],
   "source": [
    "from keras.utils import np_utils\n",
    "y = np_utils.to_categorical(y)"
   ]
  },
  {
   "cell_type": "markdown",
   "metadata": {},
   "source": [
    "#### 4. 建立模型"
   ]
  },
  {
   "cell_type": "code",
   "execution_count": 4,
   "metadata": {},
   "outputs": [],
   "source": [
    "from keras.models import Sequential\n",
    "from keras.layers import Dense, Dropout, Conv2D, MaxPooling2D, Flatten"
   ]
  },
  {
   "cell_type": "code",
   "execution_count": 5,
   "metadata": {},
   "outputs": [],
   "source": [
    "model = Sequential([\n",
    "    Conv2D(input_shape=(128,128,2),\n",
    "           filters=12,\n",
    "           kernel_size=3,\n",
    "           padding='same',\n",
    "           activation='relu'),\n",
    "    Dropout(0.25),\n",
    "    MaxPooling2D(pool_size=2),\n",
    "    Conv2D(filters=24,\n",
    "           kernel_size=3,\n",
    "           padding='same',\n",
    "           activation='relu'),\n",
    "    Dropout(0.25),\n",
    "    Conv2D(filters=48,\n",
    "           kernel_size=3,\n",
    "           padding='same',\n",
    "           activation='relu'),\n",
    "    Dropout(0.25),\n",
    "    Flatten(),\n",
    "    Dense(units=1600,\n",
    "          kernel_initializer='normal',\n",
    "          activation='relu'),\n",
    "    Dropout(0.5),\n",
    "    Dense(units=400,\n",
    "          kernel_initializer='normal',\n",
    "          activation='relu'),\n",
    "    Dense(units=40,\n",
    "          kernel_initializer='normal',\n",
    "          activation='softmax')\n",
    "])"
   ]
  },
  {
   "cell_type": "markdown",
   "metadata": {},
   "source": [
    "#### 5. 输出模型结构"
   ]
  },
  {
   "cell_type": "code",
   "execution_count": 6,
   "metadata": {
    "scrolled": false
   },
   "outputs": [
    {
     "name": "stdout",
     "output_type": "stream",
     "text": [
      "_________________________________________________________________\n",
      "Layer (type)                 Output Shape              Param #   \n",
      "=================================================================\n",
      "conv2d_1 (Conv2D)            (None, 128, 128, 12)      228       \n",
      "_________________________________________________________________\n",
      "dropout_1 (Dropout)          (None, 128, 128, 12)      0         \n",
      "_________________________________________________________________\n",
      "max_pooling2d_1 (MaxPooling2 (None, 64, 64, 12)        0         \n",
      "_________________________________________________________________\n",
      "conv2d_2 (Conv2D)            (None, 64, 64, 24)        2616      \n",
      "_________________________________________________________________\n",
      "dropout_2 (Dropout)          (None, 64, 64, 24)        0         \n",
      "_________________________________________________________________\n",
      "conv2d_3 (Conv2D)            (None, 64, 64, 48)        10416     \n",
      "_________________________________________________________________\n",
      "dropout_3 (Dropout)          (None, 64, 64, 48)        0         \n",
      "_________________________________________________________________\n",
      "flatten_1 (Flatten)          (None, 196608)            0         \n",
      "_________________________________________________________________\n",
      "dense_1 (Dense)              (None, 1600)              314574400 \n",
      "_________________________________________________________________\n",
      "dropout_4 (Dropout)          (None, 1600)              0         \n",
      "_________________________________________________________________\n",
      "dense_2 (Dense)              (None, 400)               640400    \n",
      "_________________________________________________________________\n",
      "dense_3 (Dense)              (None, 40)                16040     \n",
      "=================================================================\n",
      "Total params: 315,244,100\n",
      "Trainable params: 315,244,100\n",
      "Non-trainable params: 0\n",
      "_________________________________________________________________\n",
      "None\n"
     ]
    }
   ],
   "source": [
    "print(model.summary())"
   ]
  },
  {
   "cell_type": "markdown",
   "metadata": {},
   "source": [
    "#### 6. 定义训练方式"
   ]
  },
  {
   "cell_type": "code",
   "execution_count": null,
   "metadata": {},
   "outputs": [],
   "source": [
    "model.compile(loss='categorical_crossentropy',\n",
    "              optimizer='adam',\n",
    "              metrics=['accuracy'])"
   ]
  },
  {
   "cell_type": "markdown",
   "metadata": {},
   "source": [
    "#### 7. 开始训练"
   ]
  },
  {
   "cell_type": "code",
   "execution_count": null,
   "metadata": {},
   "outputs": [],
   "source": [
    "history = model.fit(x=x,\n",
    "                   y=y,\n",
    "                   validation_split=0.2,\n",
    "                   epochs=10,\n",
    "                   batch_size=32,\n",
    "                   verbose=2)"
   ]
  }
 ],
 "metadata": {
  "kernelspec": {
   "display_name": "Python 3",
   "language": "python",
   "name": "python3"
  },
  "language_info": {
   "codemirror_mode": {
    "name": "ipython",
    "version": 3
   },
   "file_extension": ".py",
   "mimetype": "text/x-python",
   "name": "python",
   "nbconvert_exporter": "python",
   "pygments_lexer": "ipython3",
   "version": "3.6.6"
  }
 },
 "nbformat": 4,
 "nbformat_minor": 2
}
